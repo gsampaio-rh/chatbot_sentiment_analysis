{
 "cells": [
  {
   "cell_type": "markdown",
   "metadata": {},
   "source": [
    "## 📘 Tutorial: Análise de Sentimentos em Tweets em Português com spaCy\n",
    "\n",
    "### 🔹 1. Instalação e Preparação do Ambiente\n",
    "\n",
    "Instale as bibliotecas necessárias:"
   ]
  },
  {
   "cell_type": "code",
   "execution_count": 36,
   "metadata": {},
   "outputs": [
    {
     "name": "stdout",
     "output_type": "stream",
     "text": [
      "\n",
      "\u001b[1m[\u001b[0m\u001b[34;49mnotice\u001b[0m\u001b[1;39;49m]\u001b[0m\u001b[39;49m A new release of pip is available: \u001b[0m\u001b[31;49m24.0\u001b[0m\u001b[39;49m -> \u001b[0m\u001b[32;49m25.1.1\u001b[0m\n",
      "\u001b[1m[\u001b[0m\u001b[34;49mnotice\u001b[0m\u001b[1;39;49m]\u001b[0m\u001b[39;49m To update, run: \u001b[0m\u001b[32;49mpip install --upgrade pip\u001b[0m\n",
      "Note: you may need to restart the kernel to use updated packages.\n",
      "\n",
      "\u001b[1m[\u001b[0m\u001b[34;49mnotice\u001b[0m\u001b[1;39;49m]\u001b[0m\u001b[39;49m A new release of pip is available: \u001b[0m\u001b[31;49m24.0\u001b[0m\u001b[39;49m -> \u001b[0m\u001b[32;49m25.1.1\u001b[0m\n",
      "\u001b[1m[\u001b[0m\u001b[34;49mnotice\u001b[0m\u001b[1;39;49m]\u001b[0m\u001b[39;49m To update, run: \u001b[0m\u001b[32;49mpip install --upgrade pip\u001b[0m\n",
      "\u001b[38;5;2m✔ Download and installation successful\u001b[0m\n",
      "You can now load the package via spacy.load('pt_core_news_lg')\n"
     ]
    }
   ],
   "source": [
    "%pip install spacy seaborn enelvo imbalanced-learn nltk --quiet\n",
    "!python -m spacy download pt_core_news_lg --quiet"
   ]
  },
  {
   "cell_type": "markdown",
   "metadata": {},
   "source": [
    "Importe as bibliotecas:"
   ]
  },
  {
   "cell_type": "code",
   "execution_count": 37,
   "metadata": {},
   "outputs": [],
   "source": [
    "import spacy\n",
    "import pandas as pd\n",
    "import seaborn as sns\n",
    "import re\n",
    "import numpy as np\n",
    "from sklearn.utils import shuffle\n",
    "from sklearn.model_selection import train_test_split\n",
    "from imblearn.under_sampling import RandomUnderSampler\n",
    "from nltk.stem.snowball import SnowballStemmer\n",
    "import os"
   ]
  },
  {
   "cell_type": "code",
   "execution_count": 38,
   "metadata": {},
   "outputs": [],
   "source": [
    "os.makedirs(\"corpus\", exist_ok=True)\n",
    "os.makedirs(\"output_model\", exist_ok=True)"
   ]
  },
  {
   "cell_type": "markdown",
   "metadata": {},
   "source": [
    "\n",
    "### 🔹 2. Carregamento e Visualização do Dataset\n",
    "\n",
    "Carregue o dataset:"
   ]
  },
  {
   "cell_type": "code",
   "execution_count": 39,
   "metadata": {},
   "outputs": [
    {
     "name": "stderr",
     "output_type": "stream",
     "text": [
      "/var/folders/8r/2hn86n416n58v77nhrr2_mhw0000gn/T/ipykernel_87608/4097103714.py:4: FutureWarning: Downcasting behavior in `replace` is deprecated and will be removed in a future version. To retain the old behavior, explicitly call `result.infer_objects(copy=False)`. To opt-in to the future behavior, set `pd.set_option('future.no_silent_downcasting', True)`\n",
      "  df[\"sentiment\"] = df[\"sentiment\"].replace({\"Positivo\": 1, \"Negativo\": 0})\n"
     ]
    },
    {
     "data": {
      "text/html": [
       "<div>\n",
       "<style scoped>\n",
       "    .dataframe tbody tr th:only-of-type {\n",
       "        vertical-align: middle;\n",
       "    }\n",
       "\n",
       "    .dataframe tbody tr th {\n",
       "        vertical-align: top;\n",
       "    }\n",
       "\n",
       "    .dataframe thead th {\n",
       "        text-align: right;\n",
       "    }\n",
       "</style>\n",
       "<table border=\"1\" class=\"dataframe\">\n",
       "  <thead>\n",
       "    <tr style=\"text-align: right;\">\n",
       "      <th></th>\n",
       "      <th>id</th>\n",
       "      <th>tweet_text</th>\n",
       "      <th>tweet_date</th>\n",
       "      <th>sentiment</th>\n",
       "      <th>query_used</th>\n",
       "    </tr>\n",
       "  </thead>\n",
       "  <tbody>\n",
       "    <tr>\n",
       "      <th>0</th>\n",
       "      <td>1031761728445530112</td>\n",
       "      <td>@Tixaa23 14 para eu ir :)</td>\n",
       "      <td>Tue Aug 21 04:35:39 +0000 2018</td>\n",
       "      <td>1</td>\n",
       "      <td>:)</td>\n",
       "    </tr>\n",
       "    <tr>\n",
       "      <th>1</th>\n",
       "      <td>1031761040462278656</td>\n",
       "      <td>@drexalvarez O meu like eu já dei na época :)</td>\n",
       "      <td>Tue Aug 21 04:32:55 +0000 2018</td>\n",
       "      <td>1</td>\n",
       "      <td>:)</td>\n",
       "    </tr>\n",
       "    <tr>\n",
       "      <th>2</th>\n",
       "      <td>1031760962372689920</td>\n",
       "      <td>Eu só queria conseguir comer alguma coisa pra ...</td>\n",
       "      <td>Tue Aug 21 04:32:37 +0000 2018</td>\n",
       "      <td>1</td>\n",
       "      <td>:)</td>\n",
       "    </tr>\n",
       "    <tr>\n",
       "      <th>3</th>\n",
       "      <td>1031760948250456066</td>\n",
       "      <td>:D que lindo dia !</td>\n",
       "      <td>Tue Aug 21 04:32:33 +0000 2018</td>\n",
       "      <td>1</td>\n",
       "      <td>:)</td>\n",
       "    </tr>\n",
       "    <tr>\n",
       "      <th>4</th>\n",
       "      <td>1031760895985246208</td>\n",
       "      <td>@Primo_Resmungao Pq da pr jeito!!é uma \"oferta...</td>\n",
       "      <td>Tue Aug 21 04:32:21 +0000 2018</td>\n",
       "      <td>1</td>\n",
       "      <td>:)</td>\n",
       "    </tr>\n",
       "  </tbody>\n",
       "</table>\n",
       "</div>"
      ],
      "text/plain": [
       "                    id                                         tweet_text  \\\n",
       "0  1031761728445530112                          @Tixaa23 14 para eu ir :)   \n",
       "1  1031761040462278656      @drexalvarez O meu like eu já dei na época :)   \n",
       "2  1031760962372689920  Eu só queria conseguir comer alguma coisa pra ...   \n",
       "3  1031760948250456066                                 :D que lindo dia !   \n",
       "4  1031760895985246208  @Primo_Resmungao Pq da pr jeito!!é uma \"oferta...   \n",
       "\n",
       "                       tweet_date sentiment query_used  \n",
       "0  Tue Aug 21 04:35:39 +0000 2018         1         :)  \n",
       "1  Tue Aug 21 04:32:55 +0000 2018         1         :)  \n",
       "2  Tue Aug 21 04:32:37 +0000 2018         1         :)  \n",
       "3  Tue Aug 21 04:32:33 +0000 2018         1         :)  \n",
       "4  Tue Aug 21 04:32:21 +0000 2018         1         :)  "
      ]
     },
     "execution_count": 39,
     "metadata": {},
     "output_type": "execute_result"
    }
   ],
   "source": [
    "df = pd.read_csv(\n",
    "    \"dataset/NoThemeTweets.csv\"\n",
    ")\n",
    "df[\"sentiment\"] = df[\"sentiment\"].replace({\"Positivo\": 1, \"Negativo\": 0})\n",
    "df[\"sentiment\"] = df[\"sentiment\"].astype(\"category\")\n",
    "df.head()"
   ]
  },
  {
   "cell_type": "markdown",
   "metadata": {},
   "source": [
    "Visualize a distribuição das classes:([kaggle.com][1])"
   ]
  },
  {
   "cell_type": "code",
   "execution_count": 40,
   "metadata": {},
   "outputs": [
    {
     "data": {
      "text/plain": [
       "<Axes: xlabel='sentiment', ylabel='count'>"
      ]
     },
     "execution_count": 40,
     "metadata": {},
     "output_type": "execute_result"
    },
    {
     "data": {
      "image/png": "[encoded data removed]",
      "text/plain": [
       "<Figure size 640x480 with 1 Axes>"
      ]
     },
     "metadata": {},
     "output_type": "display_data"
    }
   ],
   "source": [
    "sns.countplot(x=df[\"sentiment\"])"
   ]
  },
  {
   "cell_type": "markdown",
   "metadata": {},
   "source": [
    "### 🔹 3. Balanceamento das Classes\n",
    "\n",
    "Utilize o `RandomUnderSampler` para balancear as classes:"
   ]
  },
  {
   "cell_type": "code",
   "execution_count": 41,
   "metadata": {},
   "outputs": [
    {
     "data": {
      "text/plain": [
       "<Axes: xlabel='sentiment', ylabel='count'>"
      ]
     },
     "execution_count": 41,
     "metadata": {},
     "output_type": "execute_result"
    },
    {
     "data": {
      "image/png": "[encoded data removed]",
      "text/plain": [
       "<Figure size 640x480 with 1 Axes>"
      ]
     },
     "metadata": {},
     "output_type": "display_data"
    }
   ],
   "source": [
    "rus = RandomUnderSampler(random_state=42)\n",
    "X_resampled, y_resampled = rus.fit_resample(df[[\"tweet_text\"]], df[\"sentiment\"])\n",
    "df_balanced = pd.DataFrame(X_resampled, columns=[\"tweet_text\"])\n",
    "df_balanced[\"sentiment\"] = y_resampled\n",
    "df_balanced = shuffle(df_balanced, random_state=42)\n",
    "df_balanced = df_balanced[:30000]  # Redução para exemplificação\n",
    "sns.countplot(x=df_balanced[\"sentiment\"])"
   ]
  },
  {
   "cell_type": "markdown",
   "metadata": {},
   "source": [
    "### 🔹 4. Pré-processamento dos Dados\n",
    "\n",
    "Defina funções para limpeza textual:"
   ]
  },
  {
   "cell_type": "code",
   "execution_count": 42,
   "metadata": {},
   "outputs": [],
   "source": [
    "nlp = spacy.load(\"pt_core_news_lg\")\n",
    "stemmer = SnowballStemmer(language=\"portuguese\")\n",
    "\n",
    "\n",
    "def remove_patterns(texto):\n",
    "    texto = re.sub(r\":[)(]+\", \"\", texto)\n",
    "    texto = re.sub(r\"@\\w+\", \"\", texto)\n",
    "    texto = re.sub(r\"#\\w+\", \"\", texto)\n",
    "    return texto\n",
    "\n",
    "\n",
    "def remove_stopwords(text):\n",
    "    doc = nlp(text)\n",
    "    return \" \".join([token.text for token in doc if not token.is_stop])\n",
    "\n",
    "\n",
    "def stemming(text):\n",
    "    words = text.split()\n",
    "    stemmed_words = [stemmer.stem(word) for word in words]\n",
    "    return \" \".join(stemmed_words)\n",
    "\n",
    "\n",
    "def lemmatization(text):\n",
    "    doc = nlp(text)\n",
    "    lemmatized_tokens = [token.lemma_ for token in doc]\n",
    "    return \" \".join(lemmatized_tokens)"
   ]
  },
  {
   "cell_type": "markdown",
   "metadata": {},
   "source": [
    "Aplique as técnicas de pré-processamento:"
   ]
  },
  {
   "cell_type": "code",
   "execution_count": 43,
   "metadata": {},
   "outputs": [],
   "source": [
    "df_patterns = df_balanced.copy()\n",
    "df_patterns[\"tweet_text\"] = df_patterns[\"tweet_text\"].apply(remove_patterns)\n",
    "\n",
    "df_stop_words = df_patterns.copy()\n",
    "df_stop_words[\"tweet_text\"] = df_stop_words[\"tweet_text\"].apply(remove_stopwords)\n",
    "\n",
    "df_lemmatization = df_patterns.copy()\n",
    "df_lemmatization[\"tweet_text\"] = df_lemmatization[\"tweet_text\"].apply(lemmatization)\n",
    "\n",
    "df_stemming = df_patterns.copy()\n",
    "df_stemming[\"tweet_text\"] = df_stemming[\"tweet_text\"].apply(stemming)"
   ]
  },
  {
   "cell_type": "markdown",
   "metadata": {},
   "source": [
    "### 🔹 5. Conversão para Formato spaCy\n",
    "\n",
    "Prepare os dados para o spaCy:"
   ]
  },
  {
   "cell_type": "code",
   "execution_count": 44,
   "metadata": {},
   "outputs": [],
   "source": [
    "from spacy.tokens import DocBin\n",
    "\n",
    "def convert(data, outfile):\n",
    "    db = DocBin()\n",
    "    for doc, label in nlp.pipe(data, as_tuples=True):\n",
    "        doc.cats[\"POS\"] = label == 1\n",
    "        doc.cats[\"NEG\"] = label == 0\n",
    "        db.add(doc)\n",
    "    db.to_disk(outfile)"
   ]
  },
  {
   "cell_type": "markdown",
   "metadata": {},
   "source": [
    "Divida os dados e converta:([kaggle.com][1])"
   ]
  },
  {
   "cell_type": "code",
   "execution_count": 45,
   "metadata": {},
   "outputs": [],
   "source": [
    "dataset = list(\n",
    "    df_patterns[[\"tweet_text\", \"sentiment\"]]\n",
    "    .sample(frac=1)\n",
    "    .itertuples(index=False, name=None)\n",
    ")\n",
    "train, test_dev = train_test_split(dataset, test_size=0.3, random_state=42)\n",
    "test, dev = train_test_split(test_dev, test_size=0.5, random_state=42)\n",
    "\n",
    "# Salva arquivos convertidos na pasta 'corpus'\n",
    "convert(train, \"corpus/train.spacy\")\n",
    "convert(dev, \"corpus/dev.spacy\")\n",
    "convert(test, \"corpus/test.spacy\")"
   ]
  },
  {
   "cell_type": "markdown",
   "metadata": {},
   "source": [
    "### 🔹 6. Configuração e Treinamento do Modelo\n",
    "\n",
    "Inicialize a configuração do spaCy:"
   ]
  },
  {
   "cell_type": "code",
   "execution_count": 46,
   "metadata": {},
   "outputs": [
    {
     "name": "stdout",
     "output_type": "stream",
     "text": [
      "\u001b[38;5;3m⚠ To generate a more effective transformer-based config (GPU-only),\n",
      "install the spacy-transformers package and re-run this command. The config\n",
      "generated now does not use transformers.\u001b[0m\n",
      "\u001b[38;5;4mℹ Generated config template specific for your use case\u001b[0m\n",
      "- Language: pt\n",
      "- Pipeline: textcat\n",
      "- Optimize for: efficiency\n",
      "- Hardware: CPU\n",
      "- Transformer: None\n",
      "\u001b[38;5;2m✔ Auto-filled config with all values\u001b[0m\n",
      "\u001b[38;5;2m✔ Saved config\u001b[0m\n",
      "configs/config.cfg\n",
      "You can now add your data and train your pipeline:\n",
      "python -m spacy train config.cfg --paths.train ./train.spacy --paths.dev ./dev.spacy\n"
     ]
    }
   ],
   "source": [
    "!python -m spacy init config --lang pt --pipeline textcat --force configs/config.cfg"
   ]
  },
  {
   "cell_type": "markdown",
   "metadata": {},
   "source": [
    "Treine o modelo:"
   ]
  },
  {
   "cell_type": "code",
   "execution_count": 47,
   "metadata": {},
   "outputs": [
    {
     "name": "stdout",
     "output_type": "stream",
     "text": [
      "\u001b[38;5;4mℹ Saving to output directory: output_model\u001b[0m\n",
      "\u001b[38;5;4mℹ Using CPU\u001b[0m\n",
      "\u001b[38;5;4mℹ To switch to GPU 0, use the option: --gpu-id 0\u001b[0m\n",
      "\u001b[1m\n",
      "=========================== Initializing pipeline ===========================\u001b[0m\n",
      "\u001b[38;5;2m✔ Initialized pipeline\u001b[0m\n",
      "\u001b[1m\n",
      "============================= Training pipeline =============================\u001b[0m\n",
      "\u001b[38;5;4mℹ Pipeline: ['textcat']\u001b[0m\n",
      "\u001b[38;5;4mℹ Initial learn rate: 0.001\u001b[0m\n",
      "E    #       LOSS TEXTCAT  CATS_SCORE  SCORE \n",
      "---  ------  ------------  ----------  ------\n",
      "  0       0          0.25       55.88    0.56\n",
      "  0     200         45.22       70.25    0.70\n",
      "  0     400         40.56       72.75    0.73\n",
      "  0     600         37.08       74.46    0.74\n",
      "  0     800         35.79       75.08    0.75\n",
      "  0    1000         34.05       76.65    0.77\n",
      "  0    1200         32.87       77.89    0.78\n",
      "  0    1400         32.24       77.62    0.78\n",
      "  1    1600         26.40       78.06    0.78\n",
      "  1    1800         25.29       78.16    0.78\n",
      "  2    2000         24.40       78.75    0.79\n",
      "  2    2200         21.52       79.06    0.79\n",
      "  3    2400         20.15       78.14    0.78\n",
      "  3    2600         19.17       78.43    0.78\n",
      "  4    2800         17.32       78.44    0.78\n",
      "  5    3000         16.91       78.12    0.78\n",
      "  5    3200         15.82       78.03    0.78\n",
      "  6    3400         14.85       77.76    0.78\n",
      "\u001b[38;5;2m✔ Saved pipeline to output directory\u001b[0m\n",
      "output_model/model-last\n"
     ]
    }
   ],
   "source": [
    "!python -m spacy train configs/config.cfg \\\n",
    "  --output output_model/ \\\n",
    "  --paths.train corpus/train.spacy \\\n",
    "  --paths.dev corpus/dev.spacy \\\n",
    "  --training.patience 1200\n"
   ]
  },
  {
   "cell_type": "markdown",
   "metadata": {},
   "source": [
    "### 🔹 7. Avaliação do Modelo\n",
    "\n",
    "Avalie o desempenho do modelo:([arxiv.org][2])"
   ]
  },
  {
   "cell_type": "code",
   "execution_count": 48,
   "metadata": {},
   "outputs": [
    {
     "name": "stdout",
     "output_type": "stream",
     "text": [
      "\u001b[38;5;4mℹ Using CPU\u001b[0m\n",
      "\u001b[38;5;4mℹ To switch to GPU 0, use the option: --gpu-id 0\u001b[0m\n",
      "\u001b[1m\n",
      "================================== Results ==================================\u001b[0m\n",
      "\n",
      "TOK                 100.00\n",
      "TEXTCAT (macro F)   78.82 \n",
      "SPEED               398333\n",
      "\n",
      "\u001b[1m\n",
      "=========================== Textcat F (per label) ===========================\u001b[0m\n",
      "\n",
      "          P       R       F\n",
      "POS   80.68   75.72   78.12\n",
      "NEG   77.23   81.95   79.52\n",
      "\n",
      "\u001b[1m\n",
      "======================== Textcat ROC AUC (per label) ========================\u001b[0m\n",
      "\n",
      "      ROC AUC\n",
      "POS      0.87\n",
      "NEG      0.87\n",
      "\n"
     ]
    }
   ],
   "source": [
    "!python -m spacy evaluate output_model/model-best corpus/test.spacy"
   ]
  },
  {
   "cell_type": "markdown",
   "metadata": {},
   "source": [
    "## 📊 Resultados e Análise\n",
    "\n",
    "Os resultados variam conforme a técnica de pré-processamento aplicada. Por exemplo:\n",
    "\n",
    "* **Sem remoção de padrões**: F1-score de aproximadamente 99.78%, indicando possível overfitting devido à presença de emoticons como \":)\" e \":(\".\n",
    "* **Com remoção de padrões**: F1-score reduzido para cerca de 77.28%, refletindo uma avaliação mais realista do modelo.\n",
    "* **Com remoção de stop words**: F1-score em torno de 76.77%.\n",
    "* **Com lematização**: F1-score de aproximadamente 77.30%.\n",
    "* **Com stemming**: F1-score de cerca de 76.99%.\n",
    "\n",
    "Esses resultados destacam a importância do pré-processamento adequado e a necessidade de considerar o contexto dos dados ao treinar modelos de análise de sentimentos.\n"
   ]
  },
  {
   "cell_type": "markdown",
   "metadata": {},
   "source": [
    "## 📦 1. Carregar o modelo treinado e 💬 Função para classificar sentimentos"
   ]
  },
  {
   "cell_type": "code",
   "execution_count": 49,
   "metadata": {},
   "outputs": [],
   "source": [
    "import spacy\n",
    "\n",
    "# Carrega o modelo treinado\n",
    "nlp = spacy.load(\"output_model/model-best\")\n",
    "\n",
    "def classificar_sentimento(texto):\n",
    "    doc = nlp(texto)\n",
    "    scores = doc.cats\n",
    "    sentimento = \"Positivo\" if scores[\"POS\"] > scores[\"NEG\"] else \"Negativo\"\n",
    "    confianca = scores[\"POS\"] if sentimento == \"Positivo\" else scores[\"NEG\"]\n",
    "    return sentimento, round(confianca, 3)"
   ]
  },
  {
   "cell_type": "markdown",
   "metadata": {},
   "source": [
    "## 2. Testes com exemplos fixos"
   ]
  },
  {
   "cell_type": "code",
   "execution_count": 50,
   "metadata": {},
   "outputs": [
    {
     "name": "stdout",
     "output_type": "stream",
     "text": [
      "Texto: Adorei o serviço, chegou tudo certinho!\n",
      "→ Sentimento: Positivo (confiança: 0.653)\n",
      "\n",
      "Texto: Estou muito decepcionado com a entrega.\n",
      "→ Sentimento: Positivo (confiança: 0.636)\n",
      "\n",
      "Texto: Mais ou menos... poderia ser melhor.\n",
      "→ Sentimento: Positivo (confiança: 0.737)\n",
      "\n",
      "Texto: Ganhei um cupom de desconto e fiquei feliz :)\n",
      "→ Sentimento: Positivo (confiança: 0.733)\n",
      "\n",
      "Texto: O produto veio com defeito e ninguém resolve.\n",
      "→ Sentimento: Positivo (confiança: 0.695)\n",
      "\n"
     ]
    }
   ],
   "source": [
    "exemplos = [\n",
    "    \"Adorei o serviço, chegou tudo certinho!\",\n",
    "    \"Estou muito decepcionado com a entrega.\",\n",
    "    \"Mais ou menos... poderia ser melhor.\",\n",
    "    \"Ganhei um cupom de desconto e fiquei feliz :)\",\n",
    "    \"O produto veio com defeito e ninguém resolve.\",\n",
    "]\n",
    "\n",
    "for texto in exemplos:\n",
    "    sentimento, score = classificar_sentimento(texto)\n",
    "    print(f\"Texto: {texto}\\n→ Sentimento: {sentimento} (confiança: {score})\\n\")"
   ]
  }
 ],
 "metadata": {
  "kernelspec": {
   "display_name": ".env",
   "language": "python",
   "name": "python3"
  },
  "language_info": {
   "codemirror_mode": {
    "name": "ipython",
    "version": 3
   },
   "file_extension": ".py",
   "mimetype": "text/x-python",
   "name": "python",
   "nbconvert_exporter": "python",
   "pygments_lexer": "ipython3",
   "version": "3.11.9"
  }
 },
 "nbformat": 4,
 "nbformat_minor": 2
}
